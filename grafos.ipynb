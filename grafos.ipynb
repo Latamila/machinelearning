{
  "nbformat": 4,
  "nbformat_minor": 0,
  "metadata": {
    "colab": {
      "provenance": [],
      "authorship_tag": "ABX9TyPAzJQdN54LERavKzsjhWWW",
      "include_colab_link": true
    },
    "kernelspec": {
      "name": "python3",
      "display_name": "Python 3"
    },
    "language_info": {
      "name": "python"
    }
  },
  "cells": [
    {
      "cell_type": "markdown",
      "metadata": {
        "id": "view-in-github",
        "colab_type": "text"
      },
      "source": [
        "<a href=\"https://colab.research.google.com/github/Latamila/machinelearning/blob/main/grafos.ipynb\" target=\"_parent\"><img src=\"https://colab.research.google.com/assets/colab-badge.svg\" alt=\"Open In Colab\"/></a>"
      ]
    },
    {
      "cell_type": "markdown",
      "source": [
        "*   **Caminho mais curto de grafos não ponderados.**\n",
        "*   **Descobrir todos os nós alcançáveis a partir de um vértice inicial.**\n",
        "*   **Encontrar nós vizinhos em redes ponto a ponto como o BitTorrent**\n",
        "*   **Usado pelos rastreadores nos mecanismos de pesquisa para visitar links em uma página Web e continuar fazendo o mesmo recursivamente.**\n",
        "**Encontrar pessoas a uma determinada distância de uma pessoa nas redes sociais** \n",
        "**Identificar todos os locais vizinhos nos sistemas GPS.**\n",
        "**Pesquisar se existe um caminho entre dois nós de um grafo(localização do caminho).**\n",
        "**Permitir que pacotes transmitidos alcancem todos os nós de uma rede. **\n",
        "\n",
        "\n"
      ],
      "metadata": {
        "id": "-Q_ggJN6BI7b"
      }
    },
    {
      "cell_type": "code",
      "source": [
        "from collections import defaultdict"
      ],
      "metadata": {
        "id": "MzTeRKlP90mb"
      },
      "execution_count": null,
      "outputs": []
    },
    {
      "cell_type": "code",
      "source": [
        "from re import I\n",
        "class Grafo:\n",
        "  def __init__(self):\n",
        "    self.graph=defaultdict(list)\n",
        "\n",
        "  def addEdge(self,u,v):\n",
        "    self.graph[u].append(v)\n",
        "\n",
        "  def BFS(self,s):\n",
        "    visited=[False]*(len(self.graph))\n",
        "    queue=[]\n",
        "    queue.append(s)\n",
        "    visited[s]=True\n",
        "    while queue:\n",
        "      s=queue.pop(0)\n",
        "      print(s,end=\"\")\n",
        "      for i in self.graph[s]:\n",
        "        if visited[i]==False:\n",
        "          queue.append(i)\n",
        "          visited[i]=True"
      ],
      "metadata": {
        "id": "IYo9kjyU-Akq"
      },
      "execution_count": 9,
      "outputs": []
    },
    {
      "cell_type": "code",
      "source": [
        "g= Grafo()"
      ],
      "metadata": {
        "id": "dwCM0Fa1_nLU"
      },
      "execution_count": 10,
      "outputs": []
    },
    {
      "cell_type": "code",
      "source": [
        "g.addEdge(0,1)"
      ],
      "metadata": {
        "id": "5FlT5I3P_rOT"
      },
      "execution_count": 11,
      "outputs": []
    },
    {
      "cell_type": "code",
      "source": [
        "g.addEdge(0,2)"
      ],
      "metadata": {
        "id": "dDPgYZWS_pAm"
      },
      "execution_count": 12,
      "outputs": []
    },
    {
      "cell_type": "code",
      "source": [
        "g.addEdge(1,2)"
      ],
      "metadata": {
        "id": "J4PljXSZALZ_"
      },
      "execution_count": 13,
      "outputs": []
    },
    {
      "cell_type": "code",
      "source": [
        "g.addEdge(2,0)"
      ],
      "metadata": {
        "id": "qUl_jZDuAOH9"
      },
      "execution_count": 14,
      "outputs": []
    },
    {
      "cell_type": "code",
      "source": [
        "g.addEdge(2,3)"
      ],
      "metadata": {
        "id": "VALvun7EAQPm"
      },
      "execution_count": 15,
      "outputs": []
    },
    {
      "cell_type": "code",
      "source": [
        "g.addEdge(3,3)"
      ],
      "metadata": {
        "id": "aYwfXbEnAUWp"
      },
      "execution_count": 16,
      "outputs": []
    },
    {
      "cell_type": "code",
      "source": [
        "print(\"Aqui está o caminho a seguir para atravessar o grafo(começando do vertice 2): \")\n",
        "g.BFS(2)"
      ],
      "metadata": {
        "id": "IJIWelKZAWOK",
        "outputId": "17540337-16c5-4e32-93c2-60997ca025b1",
        "colab": {
          "base_uri": "https://localhost:8080/"
        }
      },
      "execution_count": 17,
      "outputs": [
        {
          "output_type": "stream",
          "name": "stdout",
          "text": [
            "Aqui está o caminho a seguir para atravessar o grafo(começando do vertice 2): \n",
            "2031"
          ]
        }
      ]
    },
    {
      "cell_type": "code",
      "source": [],
      "metadata": {
        "id": "HoYa7ekKAh3a"
      },
      "execution_count": null,
      "outputs": []
    }
  ]
}