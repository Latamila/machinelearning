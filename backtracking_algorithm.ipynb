{
  "nbformat": 4,
  "nbformat_minor": 0,
  "metadata": {
    "colab": {
      "provenance": [],
      "authorship_tag": "ABX9TyOUWQIqB2Qdu6DDlZ++YYgv",
      "include_colab_link": true
    },
    "kernelspec": {
      "name": "python3",
      "display_name": "Python 3"
    },
    "language_info": {
      "name": "python"
    }
  },
  "cells": [
    {
      "cell_type": "markdown",
      "metadata": {
        "id": "view-in-github",
        "colab_type": "text"
      },
      "source": [
        "<a href=\"https://colab.research.google.com/github/Latamila/machinelearning/blob/main/backtracking_algorithm.ipynb\" target=\"_parent\"><img src=\"https://colab.research.google.com/assets/colab-badge.svg\" alt=\"Open In Colab\"/></a>"
      ]
    },
    {
      "cell_type": "markdown",
      "source": [
        "O backtrackin é uma técnica algoritmica para resolver recursivamente os problemas, tentando criar uma solução de forma incremental, uma peça de cada vez, removendo as soluções que falham em satisfazer as restrições do problema a qualquer momento. "
      ],
      "metadata": {
        "id": "SwCFpQ2tEFrf"
      }
    },
    {
      "cell_type": "markdown",
      "source": [
        "Por exemplo, considere um algoritmo de solução do jogo Sudoku, no qual tentamos preencher os digitos um por um. Sempre que descobrimos que o digito atual não pode levar a uma solução, nós o removemos (backtrack) e tentamos o proximo digito.É melhor do que uma abordagem ingenua (gerando todas as combinações possíveis de digitos e depois tentando todas as combinações uma por uma), pois ela libera um conjunto de permutações sempre que recua. "
      ],
      "metadata": {
        "id": "wAQPMdWBEV31"
      }
    },
    {
      "cell_type": "code",
      "source": [
        "def permuta(combinacoes,lista):\n",
        "  if combinacoes == 1:\n",
        "    return lista\n",
        "  else:\n",
        "    return [y+x for y in permuta(1,lista) for x in permuta(combinacoes-1,lista)]"
      ],
      "metadata": {
        "id": "NeGq2TjpERyQ"
      },
      "execution_count": 4,
      "outputs": []
    },
    {
      "cell_type": "code",
      "source": [
        "print(permuta(1,['a','b','c']))"
      ],
      "metadata": {
        "colab": {
          "base_uri": "https://localhost:8080/"
        },
        "id": "2-LdsYiqFZoS",
        "outputId": "b7e0f7bd-4026-4025-bd78-8d893bdbb348"
      },
      "execution_count": 5,
      "outputs": [
        {
          "output_type": "stream",
          "name": "stdout",
          "text": [
            "['a', 'b', 'c']\n"
          ]
        }
      ]
    },
    {
      "cell_type": "code",
      "source": [
        "print(permuta(2,['a','b','c']))"
      ],
      "metadata": {
        "colab": {
          "base_uri": "https://localhost:8080/"
        },
        "id": "IrNZNp8-FpWM",
        "outputId": "987fbfec-12a6-473e-a1ce-0da14e76e11d"
      },
      "execution_count": 6,
      "outputs": [
        {
          "output_type": "stream",
          "name": "stdout",
          "text": [
            "['aa', 'ab', 'ac', 'ba', 'bb', 'bc', 'ca', 'cb', 'cc']\n"
          ]
        }
      ]
    },
    {
      "cell_type": "code",
      "source": [
        "print(permuta(3,['a','b','c']))"
      ],
      "metadata": {
        "colab": {
          "base_uri": "https://localhost:8080/"
        },
        "id": "lVG0H--vF-Ct",
        "outputId": "ec0850f3-34fb-4c63-fc35-8ecd11732c59"
      },
      "execution_count": 7,
      "outputs": [
        {
          "output_type": "stream",
          "name": "stdout",
          "text": [
            "['aaa', 'aab', 'aac', 'aba', 'abb', 'abc', 'aca', 'acb', 'acc', 'baa', 'bab', 'bac', 'bba', 'bbb', 'bbc', 'bca', 'bcb', 'bcc', 'caa', 'cab', 'cac', 'cba', 'cbb', 'cbc', 'cca', 'ccb', 'ccc']\n"
          ]
        }
      ]
    },
    {
      "cell_type": "code",
      "source": [
        "print(permuta(4,['a','b','c']))"
      ],
      "metadata": {
        "colab": {
          "base_uri": "https://localhost:8080/"
        },
        "id": "vhEfKpaaGBMR",
        "outputId": "88e58360-20cc-4290-92b8-095a1ee5b276"
      },
      "execution_count": 8,
      "outputs": [
        {
          "output_type": "stream",
          "name": "stdout",
          "text": [
            "['aaaa', 'aaab', 'aaac', 'aaba', 'aabb', 'aabc', 'aaca', 'aacb', 'aacc', 'abaa', 'abab', 'abac', 'abba', 'abbb', 'abbc', 'abca', 'abcb', 'abcc', 'acaa', 'acab', 'acac', 'acba', 'acbb', 'acbc', 'acca', 'accb', 'accc', 'baaa', 'baab', 'baac', 'baba', 'babb', 'babc', 'baca', 'bacb', 'bacc', 'bbaa', 'bbab', 'bbac', 'bbba', 'bbbb', 'bbbc', 'bbca', 'bbcb', 'bbcc', 'bcaa', 'bcab', 'bcac', 'bcba', 'bcbb', 'bcbc', 'bcca', 'bccb', 'bccc', 'caaa', 'caab', 'caac', 'caba', 'cabb', 'cabc', 'caca', 'cacb', 'cacc', 'cbaa', 'cbab', 'cbac', 'cbba', 'cbbb', 'cbbc', 'cbca', 'cbcb', 'cbcc', 'ccaa', 'ccab', 'ccac', 'ccba', 'ccbb', 'ccbc', 'ccca', 'cccb', 'cccc']\n"
          ]
        }
      ]
    },
    {
      "cell_type": "code",
      "source": [],
      "metadata": {
        "id": "wv7UHZg8GDU4"
      },
      "execution_count": null,
      "outputs": []
    }
  ]
}